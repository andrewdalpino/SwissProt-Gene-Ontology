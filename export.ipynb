{
 "cells": [
  {
   "cell_type": "markdown",
   "id": "16fe6eb0",
   "metadata": {},
   "source": [
    "This merges the splits and subsets into a single dataset dict and pushes it to HuggingFace Hub."
   ]
  },
  {
   "cell_type": "code",
   "execution_count": null,
   "id": "e1036e76",
   "metadata": {},
   "outputs": [],
   "source": [
    "from datasets import load_dataset\n",
    "\n",
    "dataset_name = \"andrewdalpino/SwissProt-Gene-Ontology\"\n",
    "\n",
    "dataset_path = \"./dataset/dataset.jsonl\"\n",
    "\n",
    "dataset = load_dataset(\"json\", data_files=dataset_path)\n",
    "\n",
    "dataset.save_to_disk(f\"./exports/{dataset_name}\")\n",
    "\n",
    "dataset.push_to_hub(dataset_name)"
   ]
  }
 ],
 "metadata": {
  "kernelspec": {
   "display_name": ".venv",
   "language": "python",
   "name": "python3"
  },
  "language_info": {
   "codemirror_mode": {
    "name": "ipython",
    "version": 3
   },
   "file_extension": ".py",
   "mimetype": "text/x-python",
   "name": "python",
   "nbconvert_exporter": "python",
   "pygments_lexer": "ipython3",
   "version": "3.12.3"
  }
 },
 "nbformat": 4,
 "nbformat_minor": 5
}
