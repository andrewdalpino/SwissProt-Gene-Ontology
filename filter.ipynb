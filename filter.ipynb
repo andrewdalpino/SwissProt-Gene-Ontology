{
 "cells": [
  {
   "cell_type": "markdown",
   "id": "594ee2f8",
   "metadata": {},
   "source": [
    "In this notebook, we'll filter the samples of the SwissProt dataset to only include those that have annotations that were experimentally verified or inferred by a human curator."
   ]
  },
  {
   "cell_type": "code",
   "execution_count": null,
   "id": "ded3638a",
   "metadata": {},
   "outputs": [],
   "source": [
    "from datasets import load_dataset\n",
    "\n",
    "from collections import Counter\n",
    "\n",
    "import matplotlib.pyplot as plt\n",
    "\n",
    "import json\n",
    "\n",
    "all_dataset_path = \"./dataset/all.jsonl\"\n",
    "mf_dataset_path = \"./dataset/mf.jsonl\"\n",
    "bp_dataset_path = \"./dataset/bp.jsonl\"\n",
    "cc_dataset_path = \"./dataset/cc.jsonl\"\n",
    "\n",
    "all_filtered_path = \"./dataset/all-filtered.jsonl\"\n",
    "mf_filtered_path = \"./dataset/mf-filtered.jsonl\"\n",
    "bp_filtered_path = \"./dataset/bp-filtered.jsonl\"\n",
    "cc_filtered_path = \"./dataset/cc-filtered.jsonl\"\n",
    "\n",
    "min_terms = 1\n",
    "\n",
    "CAFA5_EVIDENCE_CODES = {\"EXP\", \"IDA\", \"IPI\", \"IMP\", \"IGI\", \"IEP\", \"HTP\", \"HDA\", \"HMP\", \"HGI\", \"HEP\", \"TAS\", \"IC\"}\n",
    "\n",
    "# Refer to https://geneontology.org/docs/guide-go-evidence-codes/.\n",
    "admissible_evidence_codes = CAFA5_EVIDENCE_CODES\n",
    "\n",
    "for subset_name, dataset_path, filtered_path in [\n",
    "    (\"All\", all_dataset_path, all_filtered_path),\n",
    "    (\"Molecular Function\", mf_dataset_path, mf_filtered_path),\n",
    "    (\"Biological Process\", bp_dataset_path, bp_filtered_path),\n",
    "    (\"Cellular Component\", cc_dataset_path, cc_filtered_path),\n",
    "]:\n",
    "    dataset = load_dataset(\"json\", data_files=dataset_path, split=\"train\")\n",
    "\n",
    "    counter = Counter()\n",
    "\n",
    "    with open(filtered_path, \"w\") as file:\n",
    "        for record in dataset:\n",
    "            filtered_terms = []\n",
    "\n",
    "            for go_term in record[\"terms\"]:\n",
    "                evidence_code = go_term[\"evidence_code\"]\n",
    "\n",
    "                if evidence_code in admissible_evidence_codes:\n",
    "                    filtered_terms.append(go_term)\n",
    "\n",
    "                    counter[evidence_code] += 1\n",
    "\n",
    "            if len(filtered_terms) >= min_terms:\n",
    "                record[\"terms\"] = filtered_terms\n",
    "\n",
    "                file.write(json.dumps(record) + \"\\n\")\n",
    "\n",
    "    plt.figure(figsize=(12, 5)) \n",
    "\n",
    "    plt.bar(counter.keys(), counter.values())\n",
    "\n",
    "    plt.title(f\"{subset_name} Evidence Code Frequencies\")\n",
    "    plt.xticks(rotation=90)\n",
    "    plt.xlabel(\"Evidence Code\")\n",
    "    plt.ylabel(\"Frequency\")\n",
    "\n",
    "    plt.show()\n",
    "\n",
    "    print(f\"Dataset saved to {filtered_path}\")\n"
   ]
  }
 ],
 "metadata": {
  "kernelspec": {
   "display_name": ".venv",
   "language": "python",
   "name": "python3"
  },
  "language_info": {
   "codemirror_mode": {
    "name": "ipython",
    "version": 3
   },
   "file_extension": ".py",
   "mimetype": "text/x-python",
   "name": "python",
   "nbconvert_exporter": "python",
   "pygments_lexer": "ipython3",
   "version": "3.12.3"
  }
 },
 "nbformat": 4,
 "nbformat_minor": 5
}
